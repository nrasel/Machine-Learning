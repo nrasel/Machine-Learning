{
 "cells": [
  {
   "cell_type": "code",
   "execution_count": null,
   "metadata": {},
   "outputs": [],
   "source": [
    "#supervised machine learning\n",
    "#for regression and classification library()\n",
    "#scikit learn (most populated )\n",
    "# MILK : machine learning toolkit\n",
    "#pycaret\n",
    "\n",
    "\n",
    "#unsupervised machine learning\n",
    "#preprocessing data\n",
    "#https://scikit-learn.org/stable/modules/outlier_detection.html\n",
    "#model selection\n",
    "#\n",
    "\n",
    "#python libraries for natural language processing (fr nlp projectf)\n",
    "  #1.NLTK(most important),TextBlob, Gensim, Hugging\n",
    "\n",
    "\n",
    "#80 number video theke akta excercise korte hobe\n",
    "#83 number dekhte hobe abar\n"
   ]
  }
 ],
 "metadata": {
  "language_info": {
   "name": "python"
  }
 },
 "nbformat": 4,
 "nbformat_minor": 2
}
